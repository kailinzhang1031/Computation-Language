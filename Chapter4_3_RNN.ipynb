{
 "cells": [
  {
   "cell_type": "code",
   "execution_count": 5,
   "metadata": {
    "collapsed": true
   },
   "outputs": [
    {
     "name": "stdout",
     "output_type": "stream",
     "text": [
      "tensor([[[ 0.5193,  0.4672, -0.2160,  0.2449, -0.0979],\n",
      "         [ 0.4692,  0.3137, -0.0300, -0.3287,  0.2089],\n",
      "         [ 0.6854,  0.2792, -0.2220, -0.3778,  0.2201]],\n",
      "\n",
      "        [[ 0.5436,  0.2994, -0.5330,  0.1497, -0.1878],\n",
      "         [ 0.5023,  0.5380,  0.0657, -0.1530,  0.0236],\n",
      "         [ 0.5890,  0.1331, -0.0687, -0.3336,  0.1587]]],\n",
      "       grad_fn=<TransposeBackward1>)\n",
      "tensor([[[ 0.6854,  0.2792, -0.2220, -0.3778,  0.2201],\n",
      "         [ 0.5890,  0.1331, -0.0687, -0.3336,  0.1587]]],\n",
      "       grad_fn=<StackBackward0>)\n",
      "torch.Size([2, 3, 5]) torch.Size([1, 2, 5])\n"
     ]
    }
   ],
   "source": [
    "import torch\n",
    "from torch.nn import  RNN\n",
    "rnn = RNN(input_size=4, hidden_size=5, batch_first=True)\n",
    "inputs = torch.rand(2,3,4)\n",
    "outputs, hn = rnn(inputs)\n",
    "# outputs: hidden layer of output series\n",
    "# hn: hidden layer in the last time\n",
    "print(outputs)\n",
    "print(hn)\n",
    "print(outputs.shape,hn.shape)\n",
    "\n",
    "# other parameters:\n",
    "# bidrirectional = True (False by default)\n",
    "# num_layers = 1 (1 by default)"
   ]
  },
  {
   "cell_type": "code",
   "execution_count": 6,
   "outputs": [
    {
     "name": "stdout",
     "output_type": "stream",
     "text": [
      "tensor([[[ 0.2344,  0.0873, -0.0575,  0.0427,  0.0387],\n",
      "         [ 0.3352,  0.1491, -0.1493,  0.1126,  0.0304],\n",
      "         [ 0.4318,  0.2487, -0.1345,  0.0267,  0.0334]],\n",
      "\n",
      "        [[ 0.1709,  0.0844, -0.1193,  0.1348, -0.0202],\n",
      "         [ 0.3931,  0.2335, -0.1581,  0.0752,  0.0126],\n",
      "         [ 0.3846,  0.2303, -0.1127,  0.0503, -0.0484]]],\n",
      "       grad_fn=<TransposeBackward0>)\n",
      "tensor([[[ 0.4318,  0.2487, -0.1345,  0.0267,  0.0334],\n",
      "         [ 0.3846,  0.2303, -0.1127,  0.0503, -0.0484]]],\n",
      "       grad_fn=<StackBackward0>)\n",
      "tensor([[[ 0.7176,  0.3356, -0.2720,  0.0365,  0.0726],\n",
      "         [ 0.6858,  0.3352, -0.2023,  0.0772, -0.0854]]],\n",
      "       grad_fn=<StackBackward0>)\n",
      "torch.Size([2, 3, 5]) torch.Size([1, 2, 5]) torch.Size([1, 2, 5])\n"
     ]
    }
   ],
   "source": [
    "from torch.nn import  LSTM\n",
    "lstm = LSTM(input_size=4,hidden_size=5,batch_first=True)\n",
    "inputs = torch.rand(2,3,4)\n",
    "outputs, (hn, cn) = lstm(inputs)\n",
    "print(outputs)\n",
    "print(hn)\n",
    "print(cn)\n",
    "print(outputs.shape,hn.shape,cn.shape)"
   ],
   "metadata": {
    "collapsed": false,
    "pycharm": {
     "name": "#%%\n"
    }
   }
  },
  {
   "cell_type": "code",
   "execution_count": 6,
   "outputs": [],
   "source": [],
   "metadata": {
    "collapsed": false,
    "pycharm": {
     "name": "#%%\n"
    }
   }
  }
 ],
 "metadata": {
  "kernelspec": {
   "name": "pycharm-6f055472",
   "language": "python",
   "display_name": "PyCharm (NLP_BasedOnPretrainedModel)"
  },
  "language_info": {
   "codemirror_mode": {
    "name": "ipython",
    "version": 2
   },
   "file_extension": ".py",
   "mimetype": "text/x-python",
   "name": "python",
   "nbconvert_exporter": "python",
   "pygments_lexer": "ipython2",
   "version": "2.7.6"
  }
 },
 "nbformat": 4,
 "nbformat_minor": 0
}