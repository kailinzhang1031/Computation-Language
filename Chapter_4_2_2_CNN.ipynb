{
 "cells": [
  {
   "cell_type": "code",
   "execution_count": 28,
   "metadata": {},
   "outputs": [],
   "source": [
    "\"\"\"\n",
    "Convolutional Layer\n",
    "\"\"\"\n",
    "import torch\n",
    "from  torch.nn import  Conv1d\n",
    "conv1 = Conv1d(5,2,4)\n",
    "# input_channel=5, output_channel=2, kernel_size=4\n",
    "conv2 = Conv1d(5,2,3)\n",
    "inputs = torch.rand(2,5,6)\n",
    "outputs1 = conv1(inputs)\n",
    "outputs2 = conv2(inputs)\n",
    "# print(outputs1)\n",
    "# print(outputs2)"
   ]
  },
  {
   "cell_type": "code",
   "execution_count": 29,
   "outputs": [
    {
     "name": "stdout",
     "output_type": "stream",
     "text": [
      "tensor([[[ 0.1471,  0.0776,  0.1905],\n",
      "         [-0.6662, -0.8031, -0.5298]],\n",
      "\n",
      "        [[ 0.1253, -0.0064, -0.0161],\n",
      "         [-0.5658, -0.6812, -0.4566]]], grad_fn=<SqueezeBackward1>)\n",
      "tensor([[[-0.1302,  0.1459, -0.1936, -0.2998],\n",
      "         [-0.7205,  0.1708, -0.4805, -0.2587]],\n",
      "\n",
      "        [[ 0.0113, -0.2126, -0.1101, -0.0383],\n",
      "         [-0.4307, -0.2267, -0.4065, -0.2733]]], grad_fn=<SqueezeBackward1>)\n",
      "tensor([[[ 0.1905],\n",
      "         [-0.5298]],\n",
      "\n",
      "        [[ 0.1253],\n",
      "         [-0.4566]]], grad_fn=<SqueezeBackward1>)\n",
      "tensor([[[ 0.1459],\n",
      "         [ 0.1708]],\n",
      "\n",
      "        [[ 0.0113],\n",
      "         [-0.2267]]], grad_fn=<SqueezeBackward1>)\n"
     ]
    }
   ],
   "source": [
    "\"\"\"\n",
    "2. MaxPool Layer\n",
    "\"\"\"\n",
    "\n",
    "\"\"\"\n",
    "Maxpooling Operation by explicitly defining an item\n",
    "\"\"\"\n",
    "import  torch\n",
    "from torch.nn import MaxPool1d\n",
    "pool1 = MaxPool1d(3)\n",
    "# pool_kernel_size=3,\n",
    "# length of output series of convolutional layer = 3\n",
    "pool2 = MaxPool1d(4)\n",
    "# pool_kernel_size=4\n",
    "outputs_pool1 = pool1(outputs1)\n",
    "# 1-D max pool, get max of every row input\n",
    "outputs_pool2 = pool2(outputs2)\n",
    "print(outputs1)\n",
    "print(outputs2)\n",
    "\n",
    "print(outputs_pool1)\n",
    "print(outputs_pool2)"
   ],
   "metadata": {
    "collapsed": false,
    "pycharm": {
     "name": "#%%\n"
    }
   }
  },
  {
   "cell_type": "code",
   "execution_count": 30,
   "outputs": [
    {
     "name": "stdout",
     "output_type": "stream",
     "text": [
      "tensor([[[ 0.1471,  0.0776,  0.1905],\n",
      "         [-0.6662, -0.8031, -0.5298]],\n",
      "\n",
      "        [[ 0.1253, -0.0064, -0.0161],\n",
      "         [-0.5658, -0.6812, -0.4566]]], grad_fn=<SqueezeBackward1>)\n"
     ]
    }
   ],
   "source": [
    "\"\"\"\n",
    "Maxpooling Operation by calling function\n",
    "\"\"\"\n",
    "import torch.nn.functional as F\n",
    "outputs_pool1 = F.max_pool1d(outputs1,kernel_size=outputs1.shape[2])\n",
    "# last dimision of outputs1 is the length of series\n",
    "# print(outputs1.shape)\n",
    "print(outputs1)"
   ],
   "metadata": {
    "collapsed": false,
    "pycharm": {
     "name": "#%%\n"
    }
   }
  },
  {
   "cell_type": "code",
   "execution_count": 31,
   "outputs": [
    {
     "name": "stdout",
     "output_type": "stream",
     "text": [
      "tensor([[ 0.1905, -0.5298],\n",
      "        [ 0.1253, -0.4566]], grad_fn=<SqueezeBackward1>)\n",
      "tensor([[ 0.1459,  0.1708],\n",
      "        [ 0.0113, -0.2267]], grad_fn=<SqueezeBackward1>)\n",
      "tensor([[ 0.1905, -0.5298],\n",
      "        [ 0.1253, -0.4566],\n",
      "        [ 0.1459,  0.1708],\n",
      "        [ 0.0113, -0.2267]], grad_fn=<CatBackward0>)\n"
     ]
    }
   ],
   "source": [
    "outputs_pool1_squeeze1 = outputs_pool1.squeeze(dim=2)\n",
    "print(outputs_pool1_squeeze1)\n",
    "outputs_pool2_squeeze2 = outputs_pool2.squeeze(dim=2)\n",
    "print(outputs_pool2_squeeze2)\n",
    "outpus_pool = torch.cat([outputs_pool1_squeeze1,outputs_pool2_squeeze2])\n",
    "print(outpus_pool)"
   ],
   "metadata": {
    "collapsed": false,
    "pycharm": {
     "name": "#%%\n"
    }
   }
  }
 ],
 "metadata": {
  "kernelspec": {
   "display_name": "PyCharm (NLP_BasedOnPretrainedModel)",
   "language": "python",
   "name": "pycharm-6f055472"
  },
  "language_info": {
   "codemirror_mode": {
    "name": "ipython",
    "version": 3
   },
   "file_extension": ".py",
   "mimetype": "text/x-python",
   "name": "python",
   "nbconvert_exporter": "python",
   "pygments_lexer": "ipython3",
   "version": "3.8.8"
  }
 },
 "nbformat": 4,
 "nbformat_minor": 1
}