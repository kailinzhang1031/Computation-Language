{
 "cells": [
  {
   "cell_type": "code",
   "execution_count": 1,
   "metadata": {},
   "outputs": [
    {
     "data": {
      "text/plain": "'\\nChapter 3.2 LTP Toolkit\\n'"
     },
     "execution_count": 1,
     "metadata": {},
     "output_type": "execute_result"
    }
   ],
   "source": [
    "\"\"\"\n",
    "Chapter 3.2 LTP Toolkit\n",
    "\"\"\""
   ]
  },
  {
   "cell_type": "code",
   "execution_count": 2,
   "metadata": {},
   "outputs": [],
   "source": [
    "# pip install ltp"
   ]
  },
  {
   "cell_type": "code",
   "execution_count": 3,
   "metadata": {},
   "outputs": [
    {
     "name": "stdout",
     "output_type": "stream",
     "text": [
      "[['南京市', '长江大桥', '。']]\n"
     ]
    }
   ],
   "source": [
    "\"\"\"\n",
    "\n",
    "3.2.1 中文分词\n",
    "\n",
    "\"\"\"\n",
    "from ltp import LTP\n",
    "\n",
    "ltp = LTP()\n",
    "segment, hidden = ltp.seg([\"南京市长江大桥。\"])\n",
    "print(segment)\n",
    "# print(hidden)"
   ]
  },
  {
   "cell_type": "code",
   "execution_count": 4,
   "metadata": {},
   "outputs": [
    {
     "name": "stdout",
     "output_type": "stream",
     "text": [
      "['南京市长江大桥。', '汤姆生病了，他去了医院。']\n",
      "[['南京市', '长江大桥', '。'], ['汤姆', '生病', '了', '，', '他', '去', '了', '医院', '。']]\n",
      "[['ns', 'ns', 'wp'], ['nh', 'v', 'u', 'wp', 'r', 'v', 'u', 'n', 'wp']]\n"
     ]
    }
   ],
   "source": [
    "\"\"\"\n",
    "\n",
    "3.3.2 其他中文自然语言处理功能\n",
    "\n",
    "\"\"\"\n",
    "sentences = ltp.sent_split([\"南京市长江大桥。\",\"汤姆生病了，他去了医院。\"])\n",
    "print(sentences)\n",
    "\n",
    "segment,hidden = ltp.seg(sentences)\n",
    "print(segment)\n",
    "\n",
    "pos_tags = ltp.pos(hidden)\n",
    "print(pos_tags)\n"
   ]
  }
 ],
 "metadata": {
  "kernelspec": {
   "display_name": "Python 3",
   "language": "python",
   "name": "python3"
  },
  "language_info": {
   "codemirror_mode": {
    "name": "ipython",
    "version": 3
   },
   "file_extension": ".py",
   "mimetype": "text/x-python",
   "name": "python",
   "nbconvert_exporter": "python",
   "pygments_lexer": "ipython3",
   "version": "3.8.8"
  }
 },
 "nbformat": 4,
 "nbformat_minor": 1
}