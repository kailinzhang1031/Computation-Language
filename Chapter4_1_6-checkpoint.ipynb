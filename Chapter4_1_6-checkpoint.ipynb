{
 "cells": [
  {
   "cell_type": "code",
   "execution_count": null,
   "id": "300343fb",
   "metadata": {},
   "outputs": [],
   "source": [
    "\"\"\"\n",
    "1. Neural Network and Activation Function\n",
    "\"\"\""
   ]
  },
  {
   "cell_type": "code",
   "execution_count": 3,
   "id": "240b8535",
   "metadata": {},
   "outputs": [
    {
     "name": "stdout",
     "output_type": "stream",
     "text": [
      "tensor([[-0.2620,  0.1436],\n",
      "        [-0.1035,  0.3878],\n",
      "        [-0.1467,  0.5724]], grad_fn=<AddmmBackward0>)\n"
     ]
    }
   ],
   "source": [
    "import torch\n",
    "from torch import nn\n",
    "# linear = nn.Linear(in_features, out_features)\n",
    "linear = nn.Linear(32,2)\n",
    "inputs = torch.rand(3,32)\n",
    "outputs = linear(inputs)\n",
    "print(outputs)"
   ]
  },
  {
   "cell_type": "code",
   "execution_count": 5,
   "id": "2b58dabf",
   "metadata": {},
   "outputs": [
    {
     "name": "stdout",
     "output_type": "stream",
     "text": [
      "tensor([[0.4349, 0.5358],\n",
      "        [0.4742, 0.5958],\n",
      "        [0.4634, 0.6393]], grad_fn=<SigmoidBackward0>)\n"
     ]
    },
    {
     "name": "stderr",
     "output_type": "stream",
     "text": [
      "D:\\Program Files\\anaconda3\\lib\\site-packages\\torch\\nn\\functional.py:1806: UserWarning: nn.functional.sigmoid is deprecated. Use torch.sigmoid instead.\n",
      "  warnings.warn(\"nn.functional.sigmoid is deprecated. Use torch.sigmoid instead.\")\n"
     ]
    }
   ],
   "source": [
    "from torch.nn import functional as F\n",
    "activation  = F.sigmoid(outputs)\n",
    "print(activation)"
   ]
  },
  {
   "cell_type": "code",
   "execution_count": 9,
   "id": "eb45e292",
   "metadata": {},
   "outputs": [
    {
     "name": "stdout",
     "output_type": "stream",
     "text": [
      "tensor([[-0.2620,  0.1436],\n",
      "        [-0.1035,  0.3878],\n",
      "        [-0.1467,  0.5724]], grad_fn=<AddmmBackward0>)\n",
      "tensor([[0.4000, 0.6000],\n",
      "        [0.3796, 0.6204],\n",
      "        [0.3276, 0.6724]], grad_fn=<SoftmaxBackward0>)\n",
      "tensor([[0.4000, 0.6000],\n",
      "        [0.3796, 0.6204],\n",
      "        [0.3276, 0.6724]], grad_fn=<SoftmaxBackward0>)\n"
     ]
    },
    {
     "name": "stderr",
     "output_type": "stream",
     "text": [
      "<ipython-input-9-0202b1610d67>:3: UserWarning: Implicit dimension choice for softmax has been deprecated. Change the call to include dim=X as an argument.\n",
      "  activation1 = F.softmax(outputs)\n"
     ]
    }
   ],
   "source": [
    "activation = F.softmax(outputs, dim=1)\n",
    "print(activation)"
   ]
  },
  {
   "cell_type": "code",
   "execution_count": 11,
   "id": "40d97ef8",
   "metadata": {},
   "outputs": [
    {
     "name": "stdout",
     "output_type": "stream",
     "text": [
      "tensor([[0.0000, 0.1436],\n",
      "        [0.0000, 0.3878],\n",
      "        [0.0000, 0.5724]], grad_fn=<ReluBackward0>)\n"
     ]
    }
   ],
   "source": [
    "activation = F.relu(outputs)\n",
    "print(activation)"
   ]
  },
  {
   "cell_type": "code",
   "execution_count": null,
   "id": "bec359f1",
   "metadata": {},
   "outputs": [],
   "source": [
    "\"\"\"\n",
    "2. Constumed Neural Network Model\n",
    "\"\"\"\n",
    "\n",
    "import torch\n",
    "from torch import nn\n",
    "from torch.nn import functional as F\n",
    "\n",
    "\"\"\"\n",
    "Key: (1) Evlate a subclass from class Module of torch.nn\n",
    "     (2) access constructor & forward\n",
    "\n",
    "\"\"\"\n",
    "\n",
    "\n",
    "class MLP(nn.Module):\n",
    "    def __init__(self, input_dim, hidden_dim, num_class):\n",
    "        super(MLP, self).__init__() # linear transformation\n",
    "        self.linear1 = nn.Linear(input_dim, hidden_dim)\n",
    "        self.activate = F.relu\n",
    "        self.linear = nn.Linear(hidden_dim, num_class)\n",
    "    def forward(self, inputs):\n",
    "        hidden = self.linear1(inputs)\n",
    "        activation = self.activate(hidden)"
   ]
  },
  {
   "cell_type": "code",
   "execution_count": null,
   "id": "131410f1",
   "metadata": {},
   "outputs": [],
   "source": []
  }
 ],
 "metadata": {
  "kernelspec": {
   "display_name": "Python 3",
   "language": "python",
   "name": "python3"
  },
  "language_info": {
   "codemirror_mode": {
    "name": "ipython",
    "version": 3
   },
   "file_extension": ".py",
   "mimetype": "text/x-python",
   "name": "python",
   "nbconvert_exporter": "python",
   "pygments_lexer": "ipython3",
   "version": "3.8.8"
  }
 },
 "nbformat": 4,
 "nbformat_minor": 5
}
