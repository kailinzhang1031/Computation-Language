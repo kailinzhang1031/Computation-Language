{
 "cells": [
  {
   "cell_type": "code",
   "execution_count": 4,
   "id": "bb86393d",
   "metadata": {},
   "outputs": [
    {
     "name": "stdout",
     "output_type": "stream",
     "text": [
      "Mr. Knightley loves to find fault with me, you know--\n",
      "in a joke--it is all a joke.\n"
     ]
    }
   ],
   "source": [
    "\"\"\"\n",
    "1. Sentence division\n",
    "\"\"\"\n",
    "from nltk.corpus import gutenberg\n",
    "from nltk.tokenize import sent_tokenize\n",
    "text = gutenberg.raw(\"austen-emma.txt\")\n",
    "sentences = sent_tokenize(text)\n",
    "ex_sentences = sentences[100]\n",
    "print(ex_sentences)"
   ]
  },
  {
   "cell_type": "code",
   "execution_count": null,
   "id": "4dec4f07",
   "metadata": {},
   "outputs": [],
   "source": [
    "\"\"\"\n",
    "2. Tokenization\n",
    "\"\"\"\n",
    "\n"
   ]
  }
 ],
 "metadata": {
  "kernelspec": {
   "display_name": "Python 3",
   "language": "python",
   "name": "python3"
  },
  "language_info": {
   "codemirror_mode": {
    "name": "ipython",
    "version": 3
   },
   "file_extension": ".py",
   "mimetype": "text/x-python",
   "name": "python",
   "nbconvert_exporter": "python",
   "pygments_lexer": "ipython3",
   "version": "3.8.8"
  }
 },
 "nbformat": 4,
 "nbformat_minor": 5
}
