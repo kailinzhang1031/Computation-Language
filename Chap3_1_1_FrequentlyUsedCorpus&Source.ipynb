{
 "cells": [
  {
   "cell_type": "code",
   "execution_count": 16,
   "metadata": {},
   "outputs": [],
   "source": [
    "import  nltk\n",
    "from nltk.corpus import stopwords\n",
    "# nltk.download('all','D:/Dataset/nltk_data')\n",
    "ex_stopwords = stopwords.words('english')\n",
    "# print(ex_stopwords)"
   ]
  },
  {
   "cell_type": "code",
   "execution_count": 15,
   "metadata": {},
   "outputs": [],
   "source": [
    "from nltk.corpus import gutenberg\n",
    "ex_gutenberg = gutenberg.raw(\"austen-emma.txt\")\n",
    "# print(ex_gutenberg)"
   ]
  },
  {
   "cell_type": "code",
   "execution_count": 14,
   "metadata": {},
   "outputs": [],
   "source": [
    "from nltk.corpus import sentence_polarity\n",
    "\"\"\"\n",
    "methods to access data\n",
    "\"\"\"\n",
    "ex_categories = sentence_polarity.categories()\n",
    "# print(ex_categories)"
   ]
  },
  {
   "cell_type": "code",
   "execution_count": 10,
   "metadata": {},
   "outputs": [],
   "source": [
    "ex_words = sentence_polarity.words()\n",
    "# print(ex_words)"
   ]
  },
  {
   "cell_type": "code",
   "execution_count": 11,
   "metadata": {},
   "outputs": [],
   "source": [
    "ex_sents = sentence_polarity.sents()\n",
    "# print(ex_sents)"
   ]
  },
  {
   "cell_type": "code",
   "execution_count": 12,
   "metadata": {},
   "outputs": [],
   "source": [
    "\"\"\"\n",
    "Here represents tupes with components of \"a list of every setence\",\"the corresponding positive/negative pos\"\n",
    "\n",
    "\"\"\"\n",
    "ex_combination = [(sentence,category) for category in sentence_polarity.categories()\n",
    "                    for sentence in sentence_polarity.sents(categories=category)]\n",
    "# print(ex_combination[2])\n"
   ]
  },
  {
   "cell_type": "code",
   "execution_count": null,
   "metadata": {},
   "outputs": [],
   "source": [
    "\"\"\"\n",
    "3. 常用词典\n",
    "\"\"\""
   ]
  },
  {
   "cell_type": "code",
   "execution_count": 18,
   "metadata": {},
   "outputs": [
    {
     "name": "stdout",
     "output_type": "stream",
     "text": [
      "bank.n.01\n"
     ]
    }
   ],
   "source": [
    "\"\"\"\n",
    "(1) WordNet\n",
    "\"\"\"\n",
    "from nltk.corpus import wordnet\n",
    "syns = wordnet.synsets(\"bank\") # synsnet of all 18 meanings of \"bank\"\n",
    "ex_name = syns[0].name() # first name of \"bank\", where \"n\" is \"noun\"\n",
    "# print(ex_name)"
   ]
  },
  {
   "cell_type": "code",
   "execution_count": 19,
   "metadata": {},
   "outputs": [
    {
     "name": "stdout",
     "output_type": "stream",
     "text": [
      "sloping land (especially the slope beside a body of water)\n"
     ]
    }
   ],
   "source": [
    "\"\"\"\n",
    "1st definition for \"bank\"\n",
    "\"\"\"\n",
    "ex_def0 = syns[0].definition()\n",
    "print(ex_def0)"
   ]
  },
  {
   "cell_type": "code",
   "execution_count": 20,
   "metadata": {},
   "outputs": [
    {
     "name": "stdout",
     "output_type": "stream",
     "text": [
      "a financial institution that accepts deposits and channels the money into lending activities\n"
     ]
    }
   ],
   "source": [
    "\"\"\"\n",
    "2nd definition for bank\n",
    "\"\"\"\n",
    "ex_def1 = syns[1].definition()\n",
    "print(ex_def1)"
   ]
  },
  {
   "cell_type": "code",
   "execution_count": 21,
   "metadata": {},
   "outputs": [
    {
     "name": "stdout",
     "output_type": "stream",
     "text": [
      "['they pulled the canoe up on the bank', 'he sat on the bank of the river and watched the currents']\n"
     ]
    }
   ],
   "source": [
    "\"\"\"\n",
    "example for using first meaning of \"bank\"\n",
    "\n",
    "\"\"\"\n",
    "ex_exp0 = syns[0].examples()\n",
    "print(ex_exp0)"
   ]
  },
  {
   "cell_type": "code",
   "execution_count": 23,
   "metadata": {},
   "outputs": [
    {
     "name": "stdout",
     "output_type": "stream",
     "text": [
      "[Synset('slope.n.01')]\n"
     ]
    }
   ],
   "source": [
    "\"\"\"\n",
    "set of upper synonyms of  \"bank\"'s first meaning\n",
    "\n",
    "\"\"\"\n",
    "ex_set0 = syns[0].hypernyms()\n",
    "print(ex_set0)"
   ]
  },
  {
   "cell_type": "code",
   "execution_count": 24,
   "metadata": {},
   "outputs": [
    {
     "name": "stdout",
     "output_type": "stream",
     "text": [
      "0.8571428571428571\n"
     ]
    }
   ],
   "source": [
    "\"\"\"\n",
    "compute Wu-Palmer Similarities between two synonyms sets\n",
    "\n",
    "\"\"\"\n",
    "dog = wordnet.synset('dog.n.01')\n",
    "cat = wordnet.synset('cat.n.01')\n",
    "ex_wup_sim = dog.wup_similarity(cat)\n",
    "print(ex_wup_sim)"
   ]
  },
  {
   "cell_type": "code",
   "execution_count": 25,
   "metadata": {},
   "outputs": [
    {
     "name": "stdout",
     "output_type": "stream",
     "text": [
      "<good.a.01: PosScore=0.75 NegScore=0.0>\n"
     ]
    }
   ],
   "source": [
    "\"\"\"\n",
    "(2) SentiWordNet\n",
    "\"\"\"\n",
    "\"\"\"\n",
    "1st meaning of \"good\" under Adjective\n",
    "\"\"\"\n",
    "from nltk.corpus import sentiwordnet\n",
    "ex_mean0 = sentiwordnet.senti_synset('good.a.01')\n",
    "print(ex_mean0)"
   ]
  },
  {
   "cell_type": "code",
   "execution_count": null,
   "metadata": {},
   "outputs": [],
   "source": []
  }
 ],
 "metadata": {
  "kernelspec": {
   "display_name": "Python 3",
   "language": "python",
   "name": "python3"
  },
  "language_info": {
   "codemirror_mode": {
    "name": "ipython",
    "version": 3
   },
   "file_extension": ".py",
   "mimetype": "text/x-python",
   "name": "python",
   "nbconvert_exporter": "python",
   "pygments_lexer": "ipython3",
   "version": "3.8.8"
  }
 },
 "nbformat": 4,
 "nbformat_minor": 1
}
